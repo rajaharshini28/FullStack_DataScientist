{
 "cells": [
  {
   "cell_type": "code",
   "execution_count": 9,
   "id": "3626f00a",
   "metadata": {},
   "outputs": [
    {
     "data": {
      "text/plain": [
       "1"
      ]
     },
     "execution_count": 9,
     "metadata": {},
     "output_type": "execute_result"
    }
   ],
   "source": [
    "def word_count(filename):\n",
    "    try:\n",
    "        with open(filename,\"r\")as f:\n",
    "            t=s.split()\n",
    "            return len(t)\n",
    "    except(FileNotFoundError):\n",
    "        return 0\n",
    "filename=r\"C:\\Users\\Rajaharshini Arepati\\Desktop\\api key.txt\"\n",
    "word_count(filename)\n",
    "    \n"
   ]
  },
  {
   "cell_type": "code",
   "execution_count": 13,
   "id": "2428211a",
   "metadata": {},
   "outputs": [
    {
     "name": "stdout",
     "output_type": "stream",
     "text": [
      "Hello@123: Strong\n"
     ]
    }
   ],
   "source": [
    "import re\n",
    "\n",
    "def strong_password(s):\n",
    "    if len(s) < 8:\n",
    "        return False\n",
    "    if not re.search(r\"[A-Z]\", s):      \n",
    "        return False\n",
    "    if not re.search(r\"[a-z]\", s):      \n",
    "        return False\n",
    "    if not re.search(r\"[0-9]\", s):      \n",
    "        return False\n",
    "    if not re.search(r\"[^A-Za-z0-9]\", s):  \n",
    "        return False\n",
    "    return True\n",
    "\n",
    "s = input(\"Enter Password: \")\n",
    "\n",
    "print(f\"{s}: {'Strong' if strong_password(s) else 'Weak'}\")\n"
   ]
  },
  {
   "cell_type": "code",
   "execution_count": 17,
   "id": "c44c4f45",
   "metadata": {},
   "outputs": [
    {
     "name": "stdout",
     "output_type": "stream",
     "text": [
      "Result: 17.0\n"
     ]
    }
   ],
   "source": [
    "def cal(a,b,op):\n",
    "    if op==\"+\":\n",
    "        return a+b\n",
    "    elif op==\"-\":\n",
    "        return a-b\n",
    "    elif op==\"*\":\n",
    "        return a*b\n",
    "    elif op==\"/\":\n",
    "        if(b==0):\n",
    "            print(\"Division can't be done by zero\")\n",
    "        return a/b\n",
    "    \n",
    "a=float(input())\n",
    "op=input(\"+,-*,/\")\n",
    "b=float(input())\n",
    "result = cal(a, b, op)\n",
    "print(\"Result:\", result)"
   ]
  },
  {
   "cell_type": "code",
   "execution_count": 18,
   "id": "9793ced5",
   "metadata": {},
   "outputs": [
    {
     "name": "stdout",
     "output_type": "stream",
     "text": [
      "Duplicate found Hari\n",
      "Final list of names: ['Hari', 'Harika']\n"
     ]
    }
   ],
   "source": [
    "def student():\n",
    "    n=int(input(\"Enter number of students\"))\n",
    "    names=[]\n",
    "    for _ in range(n):\n",
    "        name=input(\"Enter student name\")\n",
    "        if name in names:\n",
    "            print(\"Duplicate found\",name)\n",
    "        else:\n",
    "            names.append(name)\n",
    "    print(\"Final list of names:\",names)\n",
    "\n",
    "student()\n",
    "    "
   ]
  },
  {
   "cell_type": "code",
   "execution_count": 25,
   "id": "ae88f955",
   "metadata": {},
   "outputs": [
    {
     "name": "stdout",
     "output_type": "stream",
     "text": [
      "Choose a option\n",
      "1.Celsius to Farhenheit\n",
      "2.Fahrenheit to celsius\n",
      "You chose: 2\n",
      "Fahrenheit to celsius 37.77777777777778\n"
     ]
    }
   ],
   "source": [
    "def c_to_f(c):\n",
    "    return (c*9/5)+32\n",
    "def f_to_c(f):\n",
    "    return (f-32)*5/9\n",
    "print(\"Choose a option\")\n",
    "print(\"1.Celsius to Farhenheit\")\n",
    "print(\"2.Fahrenheit to celsius\")\n",
    "op=int(input(\"Enter 1 or 2\"))\n",
    "print(\"You chose:\",op)\n",
    "if op==1:\n",
    "    c=float(input())\n",
    "    print(\"Celsius to Fahrenheit is\",c_to_f(c))\n",
    "elif op==2:\n",
    "    f=float(input())\n",
    "    print(\"Fahrenheit to celsius\",f_to_c(f))\n",
    "else:\n",
    "    print(\"Invalid choice\")\n",
    "\n",
    "\n",
    "\n",
    "\n"
   ]
  },
  {
   "cell_type": "code",
   "execution_count": 6,
   "id": "a8e1f5d6",
   "metadata": {},
   "outputs": [
    {
     "name": "stdout",
     "output_type": "stream",
     "text": [
      "Largest is 4\n"
     ]
    }
   ],
   "source": [
    "def largest():\n",
    "    n=int(input())\n",
    "    li=[]\n",
    "\n",
    "    for _ in range(n):\n",
    "        n=int(input())\n",
    "        li.append(n)\n",
    "    li.sort()\n",
    "    return li[-1]\n",
    "print(\"Largest is\",largest())"
   ]
  },
  {
   "cell_type": "code",
   "execution_count": 8,
   "id": "c0b2a9c5",
   "metadata": {},
   "outputs": [
    {
     "data": {
      "text/plain": [
       "900.0"
      ]
     },
     "execution_count": 8,
     "metadata": {},
     "output_type": "execute_result"
    }
   ],
   "source": [
    "def simple_interest(p,t,r):\n",
    "    return (p*t*r)/100\n",
    "p=int(input())\n",
    "t=int(input())\n",
    "r=int(input())\n",
    "simple_interest(p,t,r)"
   ]
  },
  {
   "cell_type": "code",
   "execution_count": 12,
   "id": "fa2be794",
   "metadata": {},
   "outputs": [
    {
     "name": "stdout",
     "output_type": "stream",
     "text": [
      "\n",
      "Defaulters (<75%):\n",
      "Yuttachai: 45%\n"
     ]
    }
   ],
   "source": [
    "def defaulters():\n",
    "    n = int(input(\"Enter number of students: \"))\n",
    "    students = {}\n",
    "\n",
    "    for i in range(n):\n",
    "        name = input(\"Enter name: \")\n",
    "        attendance = int(input(\"Enter attendance %: \"))\n",
    "        students[name] = attendance\n",
    "\n",
    "    print(\"\\nDefaulters (<75%):\")\n",
    "    for name, attendance in students.items():\n",
    "        if attendance < 75:\n",
    "            print(f\"{name}: {attendance}%\")\n",
    "\n",
    "defaulters()\n"
   ]
  },
  {
   "cell_type": "code",
   "execution_count": 18,
   "id": "1be97a03",
   "metadata": {},
   "outputs": [
    {
     "data": {
      "text/plain": [
       "10"
      ]
     },
     "execution_count": 18,
     "metadata": {},
     "output_type": "execute_result"
    }
   ],
   "source": [
    "def sum_of_num(n):\n",
    "    n=int(input())\n",
    "    sum=0\n",
    "    while(n>0):\n",
    "        sum+=n%10\n",
    "        n//=10\n",
    "    return sum\n",
    "\n",
    "sum_of_num(n)"
   ]
  },
  {
   "cell_type": "code",
   "execution_count": null,
   "id": "a7edadb5",
   "metadata": {},
   "outputs": [
    {
     "data": {
      "text/plain": [
       "False"
      ]
     },
     "execution_count": 22,
     "metadata": {},
     "output_type": "execute_result"
    }
   ],
   "source": [
    "def is_prime(num):\n",
    "    if num < 2:\n",
    "        return False\n",
    "    for i in range(2, num):   # check divisors up to num-1\n",
    "        if num % i == 0:\n",
    "            return False\n",
    "    return True\n",
    "\n",
    "n = int(input(\"Enter a number: \"))\n",
    "\n",
    "if is_prime(n):\n",
    "    print(f\"{n} is Prime\")\n",
    "else:\n",
    "    print(f\"{n} is Not Prime\")\n"
   ]
  }
 ],
 "metadata": {
  "kernelspec": {
   "display_name": "Python 3",
   "language": "python",
   "name": "python3"
  },
  "language_info": {
   "codemirror_mode": {
    "name": "ipython",
    "version": 3
   },
   "file_extension": ".py",
   "mimetype": "text/x-python",
   "name": "python",
   "nbconvert_exporter": "python",
   "pygments_lexer": "ipython3",
   "version": "3.11.0"
  }
 },
 "nbformat": 4,
 "nbformat_minor": 5
}
