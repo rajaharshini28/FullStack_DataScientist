{
 "cells": [
  {
   "cell_type": "code",
   "execution_count": 47,
   "id": "bbb005c6",
   "metadata": {},
   "outputs": [
    {
     "name": "stdout",
     "output_type": "stream",
     "text": [
      "Maximum number is 6\n"
     ]
    }
   ],
   "source": [
    "a=[]\n",
    "for i in range(5):\n",
    "    n=int(input())\n",
    "    a.append(n)\n",
    "print(\"Maximum number is\",max(a))"
   ]
  },
  {
   "cell_type": "code",
   "execution_count": 39,
   "id": "b3882d2d",
   "metadata": {},
   "outputs": [
    {
     "name": "stdout",
     "output_type": "stream",
     "text": [
      "15\n",
      "30\n",
      "45\n",
      "60\n",
      "75\n",
      "90\n"
     ]
    }
   ],
   "source": [
    "n=int(input(\"Enter a number\"))\n",
    "for i in range(1,100):\n",
    "    if i%3==0 and i%5==0:\n",
    "        print(i)"
   ]
  },
  {
   "cell_type": "code",
   "execution_count": null,
   "id": "c5676aba",
   "metadata": {},
   "outputs": [
    {
     "name": "stdout",
     "output_type": "stream",
     "text": [
      "2013 is not a leao year\n"
     ]
    }
   ],
   "source": [
    "n=int(input(\"Enter year\"))\n",
    "if(n%4==0 and n%100!=0) or (n%400==0):\n",
    "    print(n,\"is a leap year\")\n",
    "else:\n",
    "    print(n,\"is not a leap year\")"
   ]
  },
  {
   "cell_type": "code",
   "execution_count": 33,
   "id": "af5547f4",
   "metadata": {},
   "outputs": [
    {
     "name": "stdout",
     "output_type": "stream",
     "text": [
      "Multiplication table of 3 is 3\n",
      "Multiplication table of 3 is 6\n",
      "Multiplication table of 3 is 9\n",
      "Multiplication table of 3 is 12\n",
      "Multiplication table of 3 is 15\n",
      "Multiplication table of 3 is 18\n",
      "Multiplication table of 3 is 21\n",
      "Multiplication table of 3 is 24\n",
      "Multiplication table of 3 is 27\n",
      "Multiplication table of 3 is 30\n"
     ]
    }
   ],
   "source": [
    "n=int(input(\"Enter number\"))\n",
    "for i in range(1,11):\n",
    "    print(\"Multiplication table of\",n,\"is\",n*i)\n"
   ]
  },
  {
   "cell_type": "code",
   "execution_count": 27,
   "id": "144ff961",
   "metadata": {},
   "outputs": [
    {
     "name": "stdout",
     "output_type": "stream",
     "text": [
      "Vowels: 2\n",
      "Consonants: 3\n"
     ]
    }
   ],
   "source": [
    "i=input(\"Enter a string\")\n",
    "i.lower()\n",
    "a=list(i)\n",
    "vowels=0\n",
    "consonants=0\n",
    "for i in a:\n",
    "    if(i=='a'or i=='e' or i=='i' or i=='o' or i=='u' ):\n",
    "        vowels=vowels+1\n",
    "    else:\n",
    "        consonants=consonants+1\n",
    "print(\"Vowels:\",vowels)\n",
    "print(\"Consonants:\",consonants)\n"
   ]
  },
  {
   "cell_type": "code",
   "execution_count": 22,
   "id": "f00cd6f2",
   "metadata": {},
   "outputs": [
    {
     "name": "stdout",
     "output_type": "stream",
     "text": [
      "Not Armstrong\n"
     ]
    }
   ],
   "source": [
    "n = int(input(\"Enter pin\"))\n",
    "original=n\n",
    "rem = 0\n",
    "sum = 0\n",
    "while n > 0:\n",
    "    rem = n % 10\n",
    "    n = n // 10\n",
    "    sum+=rem*rem*rem\n",
    "if sum == original:\n",
    "    print(\"Armstrong\")\n",
    "else:\n",
    "    print(\"Not Armstrong\")"
   ]
  },
  {
   "cell_type": "code",
   "execution_count": 15,
   "id": "766b9d1b",
   "metadata": {},
   "outputs": [
    {
     "name": "stdout",
     "output_type": "stream",
     "text": [
      "o l l e h\n"
     ]
    }
   ],
   "source": [
    "a=input(\"Enter a string\")\n",
    "b=reversed(a)\n",
    "b=' '.join(b)\n",
    "print(b)"
   ]
  },
  {
   "cell_type": "code",
   "execution_count": 2,
   "id": "84d13927",
   "metadata": {},
   "outputs": [
    {
     "name": "stdout",
     "output_type": "stream",
     "text": [
      "Element a before swapping is 3\n",
      "Element b before swapping is 2\n",
      "Element a after swapping is 2\n",
      "Element b after swapping is 3\n"
     ]
    }
   ],
   "source": [
    "a=int(input(\"a= \"))\n",
    "b=int(input(\"b= \"))\n",
    "print(\"Element a before swapping is\",a)\n",
    "print(\"Element b before swapping is\",b)\n",
    "a=a+b\n",
    "b=a-b\n",
    "a=a-b\n",
    "print(\"Element a after swapping is\",a)\n",
    "print(\"Element b after swapping is\",b)"
   ]
  },
  {
   "cell_type": "code",
   "execution_count": 6,
   "id": "4dbcd1be",
   "metadata": {},
   "outputs": [
    {
     "name": "stdout",
     "output_type": "stream",
     "text": [
      "4 is not Prime\n"
     ]
    }
   ],
   "source": [
    "a=int(input())\n",
    "if(a%1==0 and a%a==0 and a%2!=0):\n",
    "    print(a,\"is Prime\")\n",
    "else:\n",
    "    print(a,\"is not Prime\")"
   ]
  },
  {
   "cell_type": "code",
   "execution_count": 12,
   "id": "6b6ac913",
   "metadata": {},
   "outputs": [
    {
     "name": "stdout",
     "output_type": "stream",
     "text": [
      "Second largest number is 3\n"
     ]
    }
   ],
   "source": [
    "a = []\n",
    "b=int(input(\"Enter number of students\"))\n",
    "for i in range(b):\n",
    "    n = int(input())\n",
    "    a.append(n)\n",
    "print(\"Second largest number is\", sorted(a)[-2])"
   ]
  },
  {
   "cell_type": "code",
   "execution_count": 7,
   "id": "e43a6c38",
   "metadata": {},
   "outputs": [
    {
     "name": "stdout",
     "output_type": "stream",
     "text": [
      "Sum of even numbers is 12\n"
     ]
    }
   ],
   "source": [
    "n=int(input())\n",
    "sum=0\n",
    "for i in range(n):\n",
    "    a=int(input())\n",
    "    if(a%2==0):\n",
    "        sum+=a\n",
    "print(\"Sum of even numbers is\",sum)\n",
    "    "
   ]
  },
  {
   "cell_type": "code",
   "execution_count": null,
   "id": "3d8a9061",
   "metadata": {},
   "outputs": [
    {
     "ename": "AttributeError",
     "evalue": "'str' object has no attribute 'isUpper'",
     "output_type": "error",
     "traceback": [
      "\u001b[31m---------------------------------------------------------------------------\u001b[39m",
      "\u001b[31mAttributeError\u001b[39m                            Traceback (most recent call last)",
      "\u001b[36mCell\u001b[39m\u001b[36m \u001b[39m\u001b[32mIn[8]\u001b[39m\u001b[32m, line 5\u001b[39m\n\u001b[32m      3\u001b[39m l=\u001b[32m0\u001b[39m\n\u001b[32m      4\u001b[39m \u001b[38;5;28;01mfor\u001b[39;00m i \u001b[38;5;129;01min\u001b[39;00m \u001b[38;5;28mstr\u001b[39m:\n\u001b[32m----> \u001b[39m\u001b[32m5\u001b[39m     \u001b[38;5;28;01mif\u001b[39;00m(\u001b[43mi\u001b[49m\u001b[43m.\u001b[49m\u001b[43misUpper\u001b[49m()):\n\u001b[32m      6\u001b[39m         u=u+\u001b[32m1\u001b[39m\n\u001b[32m      7\u001b[39m     \u001b[38;5;28;01melse\u001b[39;00m:\n",
      "\u001b[31mAttributeError\u001b[39m: 'str' object has no attribute 'isUpper'"
     ]
    }
   ],
   "source": [
    "str=input(\"Enter a string: \")\n",
    "u=0\n",
    "l=0\n",
    "for i in str:\n",
    "    if(i.isupper()):\n",
    "        u+=1\n",
    "    elif(i.islower()):\n",
    "        l+=1\n",
    "print(\"Uppercase letters:\",u)\n",
    "print(\"Lowercase letters:\",l)"
   ]
  }
 ],
 "metadata": {
  "kernelspec": {
   "display_name": "Python 3",
   "language": "python",
   "name": "python3"
  },
  "language_info": {
   "codemirror_mode": {
    "name": "ipython",
    "version": 3
   },
   "file_extension": ".py",
   "mimetype": "text/x-python",
   "name": "python",
   "nbconvert_exporter": "python",
   "pygments_lexer": "ipython3",
   "version": "3.11.0"
  }
 },
 "nbformat": 4,
 "nbformat_minor": 5
}
