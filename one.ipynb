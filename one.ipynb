{
 "cells": [
  {
   "cell_type": "code",
   "execution_count": 47,
   "id": "bbb005c6",
   "metadata": {},
   "outputs": [
    {
     "name": "stdout",
     "output_type": "stream",
     "text": [
      "Maximum number is 6\n"
     ]
    }
   ],
   "source": [
    "a=[]\n",
    "for i in range(5):\n",
    "    n=int(input())\n",
    "    a.append(n)\n",
    "print(\"Maximum number is\",max(a))"
   ]
  },
  {
   "cell_type": "code",
   "execution_count": 39,
   "id": "b3882d2d",
   "metadata": {},
   "outputs": [
    {
     "name": "stdout",
     "output_type": "stream",
     "text": [
      "15\n",
      "30\n",
      "45\n",
      "60\n",
      "75\n",
      "90\n"
     ]
    }
   ],
   "source": [
    "n=int(input(\"Enter a number\"))\n",
    "for i in range(1,100):\n",
    "    if i%3==0 and i%5==0:\n",
    "        print(i)"
   ]
  },
  {
   "cell_type": "code",
   "execution_count": null,
   "id": "c5676aba",
   "metadata": {},
   "outputs": [
    {
     "name": "stdout",
     "output_type": "stream",
     "text": [
      "2013 is not a leao year\n"
     ]
    }
   ],
   "source": [
    "n=int(input(\"Enter year\"))\n",
    "if(n%4==0 and n%100!=0) or (n%400==0):\n",
    "    print(n,\"is a leap year\")\n",
    "else:\n",
    "    print(n,\"is not a leap year\")"
   ]
  },
  {
   "cell_type": "code",
   "execution_count": 33,
   "id": "af5547f4",
   "metadata": {},
   "outputs": [
    {
     "name": "stdout",
     "output_type": "stream",
     "text": [
      "Multiplication table of 3 is 3\n",
      "Multiplication table of 3 is 6\n",
      "Multiplication table of 3 is 9\n",
      "Multiplication table of 3 is 12\n",
      "Multiplication table of 3 is 15\n",
      "Multiplication table of 3 is 18\n",
      "Multiplication table of 3 is 21\n",
      "Multiplication table of 3 is 24\n",
      "Multiplication table of 3 is 27\n",
      "Multiplication table of 3 is 30\n"
     ]
    }
   ],
   "source": [
    "n=int(input(\"Enter number\"))\n",
    "for i in range(1,11):\n",
    "    print(\"Multiplication table of\",n,\"is\",n*i)\n"
   ]
  },
  {
   "cell_type": "code",
   "execution_count": 27,
   "id": "144ff961",
   "metadata": {},
   "outputs": [
    {
     "name": "stdout",
     "output_type": "stream",
     "text": [
      "Vowels: 2\n",
      "Consonants: 3\n"
     ]
    }
   ],
   "source": [
    "i=input(\"Enter a string\")\n",
    "i.lower()\n",
    "a=list(i)\n",
    "vowels=0\n",
    "consonants=0\n",
    "for i in a:\n",
    "    if(i=='a'or i=='e' or i=='i' or i=='o' or i=='u' ):\n",
    "        vowels=vowels+1\n",
    "    else:\n",
    "        consonants=consonants+1\n",
    "print(\"Vowels:\",vowels)\n",
    "print(\"Consonants:\",consonants)\n"
   ]
  },
  {
   "cell_type": "code",
   "execution_count": 22,
   "id": "f00cd6f2",
   "metadata": {},
   "outputs": [
    {
     "name": "stdout",
     "output_type": "stream",
     "text": [
      "Not Armstrong\n"
     ]
    }
   ],
   "source": [
    "n = int(input(\"Enter pin\"))\n",
    "original=n\n",
    "rem = 0\n",
    "sum = 0\n",
    "while n > 0:\n",
    "    rem = n % 10\n",
    "    n = n // 10\n",
    "    sum+=rem*rem*rem\n",
    "if sum == original:\n",
    "    print(\"Armstrong\")\n",
    "else:\n",
    "    print(\"Not Armstrong\")"
   ]
  },
  {
   "cell_type": "code",
   "execution_count": 15,
   "id": "766b9d1b",
   "metadata": {},
   "outputs": [
    {
     "name": "stdout",
     "output_type": "stream",
     "text": [
      "o l l e h\n"
     ]
    }
   ],
   "source": [
    "a=input(\"Enter a string\")\n",
    "b=reversed(a)\n",
    "b=' '.join(b)\n",
    "print(b)"
   ]
  },
  {
   "cell_type": "code",
   "execution_count": 2,
   "id": "84d13927",
   "metadata": {},
   "outputs": [
    {
     "name": "stdout",
     "output_type": "stream",
     "text": [
      "Element a before swapping is 3\n",
      "Element b before swapping is 2\n",
      "Element a after swapping is 2\n",
      "Element b after swapping is 3\n"
     ]
    }
   ],
   "source": [
    "a=int(input(\"a= \"))\n",
    "b=int(input(\"b= \"))\n",
    "print(\"Element a before swapping is\",a)\n",
    "print(\"Element b before swapping is\",b)\n",
    "a=a+b\n",
    "b=a-b\n",
    "a=a-b\n",
    "print(\"Element a after swapping is\",a)\n",
    "print(\"Element b after swapping is\",b)"
   ]
  },
  {
   "cell_type": "code",
   "execution_count": 14,
   "id": "4dbcd1be",
   "metadata": {},
   "outputs": [
    {
     "name": "stdout",
     "output_type": "stream",
     "text": [
      "5 is Prime\n"
     ]
    }
   ],
   "source": [
    "a = int(input(\"Enter a number: \"))\n",
    "\n",
    "if a <= 1:\n",
    "    print(a, \"is not Prime\")\n",
    "else:\n",
    "    for i in range(2, int(a**0.5) + 1):\n",
    "        if a % i == 0:\n",
    "            print(a, \"is not Prime\")\n",
    "            break\n",
    "    else:\n",
    "        print(a, \"is Prime\")\n"
   ]
  },
  {
   "cell_type": "code",
   "execution_count": 12,
   "id": "6b6ac913",
   "metadata": {},
   "outputs": [
    {
     "name": "stdout",
     "output_type": "stream",
     "text": [
      "Second largest number is 3\n"
     ]
    }
   ],
   "source": [
    "a = []\n",
    "b=int(input(\"Enter number of students\"))\n",
    "for i in range(b):\n",
    "    n = int(input())\n",
    "    a.append(n)\n",
    "print(\"Second largest number is\", sorted(a)[-2])"
   ]
  },
  {
   "cell_type": "code",
   "execution_count": 7,
   "id": "e43a6c38",
   "metadata": {},
   "outputs": [
    {
     "name": "stdout",
     "output_type": "stream",
     "text": [
      "Sum of even numbers is 12\n"
     ]
    }
   ],
   "source": [
    "n=int(input())\n",
    "sum=0\n",
    "for i in range(n):\n",
    "    a=int(input())\n",
    "    if(a%2==0):\n",
    "        sum+=a\n",
    "print(\"Sum of even numbers is\",sum)\n",
    "    "
   ]
  },
  {
   "cell_type": "code",
   "execution_count": 10,
   "id": "3d8a9061",
   "metadata": {},
   "outputs": [
    {
     "name": "stdout",
     "output_type": "stream",
     "text": [
      "Uppercase letters: 3\n",
      "Lowercase letters: 2\n"
     ]
    }
   ],
   "source": [
    "str=input(\"Enter a string: \")\n",
    "u=0\n",
    "l=0\n",
    "for i in str:\n",
    "    if(i.isupper()):\n",
    "        u+=1\n",
    "    elif(i.islower()):\n",
    "        l+=1\n",
    "print(\"Uppercase letters:\",u)\n",
    "print(\"Lowercase letters:\",l)"
   ]
  },
  {
   "cell_type": "code",
   "execution_count": null,
   "id": "732ccc62",
   "metadata": {},
   "outputs": [
    {
     "name": "stdout",
     "output_type": "stream",
     "text": [
      "Factorial of 4 is 24\n"
     ]
    }
   ],
   "source": [
    "n=int(input(\"Enter a number\"))\n",
    "fact=1\n",
    "for i in range(1,n+1):\n",
    "    fact=fact*i\n",
    "print(\"Factorial of\",n,\"is\",fact)"
   ]
  },
  {
   "cell_type": "code",
   "execution_count": 2,
   "id": "172fd827",
   "metadata": {},
   "outputs": [
    {
     "name": "stdout",
     "output_type": "stream",
     "text": [
      "Fibonacci series:\n",
      "0 1 1 2 3 "
     ]
    }
   ],
   "source": [
    "def fib(n):\n",
    "    if n <= 1:\n",
    "        return n\n",
    "    else:\n",
    "        return fib(n-1) + fib(n-2)\n",
    "\n",
    "n = int(input(\"Enter how many terms: \"))\n",
    "\n",
    "print(\"Fibonacci series:\")\n",
    "for i in range(n):\n",
    "    print(fib(i), end=\" \")\n"
   ]
  },
  {
   "cell_type": "code",
   "execution_count": 4,
   "id": "e839bd68",
   "metadata": {},
   "outputs": [
    {
     "name": "stdout",
     "output_type": "stream",
     "text": [
      "Anagram\n"
     ]
    }
   ],
   "source": [
    "str1=input(\"Enter a string: \")\n",
    "str2=input(\"Enter another string\")\n",
    "if(sorted(str1)==sorted(str2)):\n",
    "    print(\"Anagram\")\n",
    "else:\n",
    "    print(\"Not Anagram\")"
   ]
  },
  {
   "cell_type": "code",
   "execution_count": 9,
   "id": "b5ababb7",
   "metadata": {},
   "outputs": [
    {
     "name": "stdout",
     "output_type": "stream",
     "text": [
      "6 is Perfect\n"
     ]
    }
   ],
   "source": [
    "n=int(input())\n",
    "sum=0\n",
    "for i in range(1,n):\n",
    "    if(n%i==0):\n",
    "        sum+=i\n",
    "if(sum==n):\n",
    "    print(n,\"is Perfect\")\n",
    "else:\n",
    "    print(n,\"is not perfect\")"
   ]
  },
  {
   "cell_type": "code",
   "execution_count": 10,
   "id": "a28a5b9e",
   "metadata": {},
   "outputs": [
    {
     "name": "stdout",
     "output_type": "stream",
     "text": [
      "20 Fail\n",
      "79 Grade B\n",
      "59 Grade C\n",
      "57 Grade C\n",
      "98 Grade A\n"
     ]
    }
   ],
   "source": [
    "a=[]\n",
    "for i in range(5):\n",
    "    n=int(input())\n",
    "    a.append(n)\n",
    "    if(n>=90):\n",
    "        print(n,\"Grade A\")\n",
    "    elif(n>=75):\n",
    "        print(n,\"Grade B\")\n",
    "    elif(n>=50):\n",
    "        print(n,\"Grade C\")\n",
    "    elif(n<50):\n",
    "        print(n,\"Fail\")\n"
   ]
  },
  {
   "cell_type": "code",
   "execution_count": 15,
   "id": "4b50c18d",
   "metadata": {},
   "outputs": [
    {
     "name": "stdout",
     "output_type": "stream",
     "text": [
      "Prime numbers between 1 and 100 are:\n",
      "2 3 5 7 11 13 17 19 23 29 31 37 41 43 47 53 59 61 67 71 73 79 83 89 97 "
     ]
    }
   ],
   "source": [
    "print(\"Prime numbers between 1 and 100 are:\")\n",
    "\n",
    "for num in range(2, 101): \n",
    "    is_prime = True\n",
    "    for i in range(2, int(num**0.5) + 1):\n",
    "        if num % i == 0:\n",
    "            is_prime = False\n",
    "            break\n",
    "    if is_prime:\n",
    "        print(num, end=\" \")\n"
   ]
  },
  {
   "cell_type": "code",
   "execution_count": 17,
   "id": "b3ce7175",
   "metadata": {},
   "outputs": [
    {
     "name": "stdout",
     "output_type": "stream",
     "text": [
      "Number of words: 4\n"
     ]
    }
   ],
   "source": [
    "str=input()\n",
    "words=0\n",
    "for i in str:\n",
    "    if(i==' '):\n",
    "        words=words+1\n",
    "print(\"Number of words:\",words+1)"
   ]
  },
  {
   "cell_type": "code",
   "execution_count": 18,
   "id": "18a28003",
   "metadata": {},
   "outputs": [
    {
     "name": "stdout",
     "output_type": "stream",
     "text": [
      "Final amount payable: ₹ 450.0\n"
     ]
    }
   ],
   "source": [
    "cart_total = float(input(\"Enter cart total: \"))\n",
    "\n",
    "if cart_total > 500:\n",
    "    final_amount = cart_total \n",
    "else:\n",
    "    final_amount = cart_total + 50 \n",
    "\n",
    "print(\"Final amount payable: ₹\", final_amount)\n"
   ]
  },
  {
   "cell_type": "code",
   "execution_count": 20,
   "id": "d5f8090e",
   "metadata": {},
   "outputs": [
    {
     "name": "stdout",
     "output_type": "stream",
     "text": [
      "Ticket price is 400.0\n"
     ]
    }
   ],
   "source": [
    "tp=float(input(\"Enter ticket price: \"))\n",
    "age=int(input(\"Enter age\"))\n",
    "student=input(\"Are you a student? (yes/no): \")\n",
    "price=0\n",
    "if(student=='yes'):\n",
    "    price=tp-(tp*0.2)\n",
    "elif(age>=60):\n",
    "    price=tp=(tp*0.1)\n",
    "print(\"Ticket price is\",price)\n"
   ]
  },
  {
   "cell_type": "code",
   "execution_count": 22,
   "id": "8c89d80a",
   "metadata": {},
   "outputs": [
    {
     "name": "stdout",
     "output_type": "stream",
     "text": [
      "Tip to be added ₹ 450.0\n"
     ]
    }
   ],
   "source": [
    "bill_total = float(input(\"Enter bill total: \"))\n",
    "tip=0\n",
    "if bill_total < 500:\n",
    "    tip= bill_total*0.05\n",
    "elif bill_total<=1000:\n",
    "    tip= bill_total*0.10\n",
    "else:\n",
    "    tip= bill_total*0.15\n",
    "\n",
    "\n",
    "print(\"Tip to be added ₹\", final_amount)\n"
   ]
  },
  {
   "cell_type": "code",
   "execution_count": 23,
   "id": "e18c87c0",
   "metadata": {},
   "outputs": [
    {
     "name": "stdout",
     "output_type": "stream",
     "text": [
      "Cheapest option for 4 months is: ₹ 2000\n"
     ]
    }
   ],
   "source": [
    "months = int(input(\"Enter membership period in months: \"))\n",
    "\n",
    "monthly_cost = months * 500\n",
    "six_month_cost = ((months // 6) * 2700) + ((months % 6) * 500)\n",
    "twelve_month_cost = ((months // 12) * 5000) + ((months % 12) * 500)\n",
    "\n",
    "\n",
    "cheapest = min(monthly_cost, six_month_cost, twelve_month_cost)\n",
    "\n",
    "print(\"Cheapest option for\", months, \"months is: ₹\", cheapest)\n"
   ]
  },
  {
   "cell_type": "code",
   "execution_count": 31,
   "id": "95224b1d",
   "metadata": {},
   "outputs": [
    {
     "name": "stdout",
     "output_type": "stream",
     "text": [
      "Fine amount: ₹ 50\n"
     ]
    }
   ],
   "source": [
    "days = int(input(\"Enter number of late days: \"))\n",
    "\n",
    "if 1 <= days <= 5:\n",
    "    fine = 10\n",
    "elif 6 <= days <= 10:\n",
    "    fine = 50\n",
    "elif days > 10:\n",
    "    fine = 100\n",
    "else:\n",
    "    fine = 0\n",
    "\n",
    "print(\"Fine amount: ₹\", fine)\n"
   ]
  },
  {
   "cell_type": "code",
   "execution_count": 30,
   "id": "3ef83ffc",
   "metadata": {},
   "outputs": [
    {
     "name": "stdout",
     "output_type": "stream",
     "text": [
      "Too hot, stay indoors!\n"
     ]
    }
   ],
   "source": [
    "temp = int(input(\"Enter temperature: \"))\n",
    "\n",
    "if temp > 35:\n",
    "    print(\"Too hot, stay indoors!\")\n",
    "elif 20 <= temp <= 35:\n",
    "    print(\"Nice weather, go out!\")\n",
    "else:\n",
    "    print(\"It’s cold, wear warm clothes!\")\n"
   ]
  },
  {
   "cell_type": "code",
   "execution_count": 24,
   "id": "141a0120",
   "metadata": {},
   "outputs": [
    {
     "name": "stdout",
     "output_type": "stream",
     "text": [
      "Attendance Percentage: 83.33333333333334 %\n",
      "Eligible for exam\n"
     ]
    }
   ],
   "source": [
    "total_classes = int(input(\"Enter total classes: \"))\n",
    "attended_classes = int(input(\"Enter classes attended: \"))\n",
    "\n",
    "attendance_percentage = (attended_classes / total_classes) * 100\n",
    "\n",
    "print(\"Attendance Percentage:\", attendance_percentage, \"%\")\n",
    "\n",
    "if attendance_percentage >= 75:\n",
    "    print(\"Eligible for exam\")\n",
    "else:\n",
    "    print(\"Not Eligible for exam\")\n",
    "\n"
   ]
  },
  {
   "cell_type": "code",
   "execution_count": 25,
   "id": "507614cc",
   "metadata": {},
   "outputs": [
    {
     "name": "stdout",
     "output_type": "stream",
     "text": [
      "Transaction Successful\n"
     ]
    }
   ],
   "source": [
    "amount = int(input(\"Enter withdrawal amount: \"))\n",
    "\n",
    "if amount % 100 == 0:\n",
    "    print(\"Transaction Successful\")\n",
    "else:\n",
    "    print(\"Transaction Failed(Amount must be in multiples of 100)\")\n"
   ]
  },
  {
   "cell_type": "code",
   "execution_count": 29,
   "id": "7dc90095",
   "metadata": {},
   "outputs": [
    {
     "name": "stdout",
     "output_type": "stream",
     "text": [
      "Electricity Bill Amount: ₹ 850\n"
     ]
    }
   ],
   "source": [
    "units = int(input(\"Enter units consumed: \"))\n",
    "\n",
    "if units <= 100:\n",
    "    bill = units * 5\n",
    "elif units <= 200:\n",
    "    bill = (100 * 5) + (units - 100) * 7\n",
    "else:\n",
    "    bill = (100 * 5) + (100 * 7) + (units - 200) * 10\n",
    "\n",
    "print(\"Electricity Bill Amount: ₹\", bill)\n"
   ]
  }
 ],
 "metadata": {
  "kernelspec": {
   "display_name": "Python 3",
   "language": "python",
   "name": "python3"
  },
  "language_info": {
   "codemirror_mode": {
    "name": "ipython",
    "version": 3
   },
   "file_extension": ".py",
   "mimetype": "text/x-python",
   "name": "python",
   "nbconvert_exporter": "python",
   "pygments_lexer": "ipython3",
   "version": "3.11.0"
  }
 },
 "nbformat": 4,
 "nbformat_minor": 5
}
