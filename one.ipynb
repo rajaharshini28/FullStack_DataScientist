{
 "cells": [
  {
   "cell_type": "code",
   "execution_count": null,
   "id": "bbb005c6",
   "metadata": {},
   "outputs": [
    {
     "ename": "ValueError",
     "evalue": "invalid literal for int() with base 10: '1 2 3 0'",
     "output_type": "error",
     "traceback": [
      "\u001b[31m---------------------------------------------------------------------------\u001b[39m",
      "\u001b[31mValueError\u001b[39m                                Traceback (most recent call last)",
      "\u001b[36mCell\u001b[39m\u001b[36m \u001b[39m\u001b[32mIn[44]\u001b[39m\u001b[32m, line 3\u001b[39m\n\u001b[32m      1\u001b[39m a=[]\n\u001b[32m      2\u001b[39m \u001b[38;5;28;01mfor\u001b[39;00m i \u001b[38;5;129;01min\u001b[39;00m \u001b[38;5;28mrange\u001b[39m(\u001b[32m5\u001b[39m):\n\u001b[32m----> \u001b[39m\u001b[32m3\u001b[39m     n=\u001b[38;5;28;43mint\u001b[39;49m\u001b[43m(\u001b[49m\u001b[38;5;28;43minput\u001b[39;49m\u001b[43m(\u001b[49m\u001b[33;43m\"\u001b[39;49m\u001b[33;43mEnter a number\u001b[39;49m\u001b[33;43m\"\u001b[39;49m\u001b[43m)\u001b[49m\u001b[43m)\u001b[49m\n\u001b[32m      4\u001b[39m     a.append(n)\n\u001b[32m      5\u001b[39m \u001b[38;5;28mprint\u001b[39m(\u001b[33m\"\u001b[39m\u001b[33mMaximum number is\u001b[39m\u001b[33m\"\u001b[39m,\u001b[38;5;28mmax\u001b[39m(a))\n",
      "\u001b[31mValueError\u001b[39m: invalid literal for int() with base 10: '1 2 3 0'"
     ]
    }
   ],
   "source": [
    "a=[]\n",
    "for i in range(5):\n",
    "    n=int(input())\n",
    "    a.append(n)\n",
    "print(\"Maximum number is\",max(a))"
   ]
  },
  {
   "cell_type": "code",
   "execution_count": 39,
   "id": "b3882d2d",
   "metadata": {},
   "outputs": [
    {
     "name": "stdout",
     "output_type": "stream",
     "text": [
      "15\n",
      "30\n",
      "45\n",
      "60\n",
      "75\n",
      "90\n"
     ]
    }
   ],
   "source": [
    "n=int(input(\"Enter a number\"))\n",
    "for i in range(1,100):\n",
    "    if i%3==0 and i%5==0:\n",
    "        print(i)"
   ]
  },
  {
   "cell_type": "code",
   "execution_count": null,
   "id": "c5676aba",
   "metadata": {},
   "outputs": [
    {
     "name": "stdout",
     "output_type": "stream",
     "text": [
      "2013 is not a leao year\n"
     ]
    }
   ],
   "source": [
    "n=int(input(\"Enter year\"))\n",
    "if(n%4==0 and n%100!=0) or (n%400==0):\n",
    "    print(n,\"is a leap year\")\n",
    "else:\n",
    "    print(n,\"is not a leap year\")"
   ]
  },
  {
   "cell_type": "code",
   "execution_count": 33,
   "id": "af5547f4",
   "metadata": {},
   "outputs": [
    {
     "name": "stdout",
     "output_type": "stream",
     "text": [
      "Multiplication table of 3 is 3\n",
      "Multiplication table of 3 is 6\n",
      "Multiplication table of 3 is 9\n",
      "Multiplication table of 3 is 12\n",
      "Multiplication table of 3 is 15\n",
      "Multiplication table of 3 is 18\n",
      "Multiplication table of 3 is 21\n",
      "Multiplication table of 3 is 24\n",
      "Multiplication table of 3 is 27\n",
      "Multiplication table of 3 is 30\n"
     ]
    }
   ],
   "source": [
    "n=int(input(\"Enter number\"))\n",
    "for i in range(1,11):\n",
    "    print(\"Multiplication table of\",n,\"is\",n*i)\n"
   ]
  },
  {
   "cell_type": "code",
   "execution_count": 27,
   "id": "144ff961",
   "metadata": {},
   "outputs": [
    {
     "name": "stdout",
     "output_type": "stream",
     "text": [
      "Vowels: 2\n",
      "Consonants: 3\n"
     ]
    }
   ],
   "source": [
    "i=input(\"Enter a string\")\n",
    "i.lower()\n",
    "a=list(i)\n",
    "vowels=0\n",
    "consonants=0\n",
    "for i in a:\n",
    "    if(i=='a'or i=='e' or i=='i' or i=='o' or i=='u' ):\n",
    "        vowels=vowels+1\n",
    "    else:\n",
    "        consonants=consonants+1\n",
    "print(\"Vowels:\",vowels)\n",
    "print(\"Consonants:\",consonants)\n"
   ]
  },
  {
   "cell_type": "code",
   "execution_count": 22,
   "id": "f00cd6f2",
   "metadata": {},
   "outputs": [
    {
     "name": "stdout",
     "output_type": "stream",
     "text": [
      "Not Armstrong\n"
     ]
    }
   ],
   "source": [
    "n = int(input(\"Enter pin\"))\n",
    "original=n\n",
    "rem = 0\n",
    "sum = 0\n",
    "while n > 0:\n",
    "    rem = n % 10\n",
    "    n = n // 10\n",
    "    sum+=rem*rem*rem\n",
    "if sum == original:\n",
    "    print(\"Armstrong\")\n",
    "else:\n",
    "    print(\"Not Armstrong\")"
   ]
  },
  {
   "cell_type": "code",
   "execution_count": 15,
   "id": "766b9d1b",
   "metadata": {},
   "outputs": [
    {
     "name": "stdout",
     "output_type": "stream",
     "text": [
      "o l l e h\n"
     ]
    }
   ],
   "source": [
    "a=input(\"Enter a string\")\n",
    "b=reversed(a)\n",
    "b=' '.join(b)\n",
    "print(b)"
   ]
  },
  {
   "cell_type": "code",
   "execution_count": null,
   "id": "84d13927",
   "metadata": {},
   "outputs": [
    {
     "name": "stdout",
     "output_type": "stream",
     "text": [
      "Element a before swapping is 3\n",
      "Element b before swapping is 2\n",
      "Element a after swapping is 2\n",
      "Element b after swapping is 3\n"
     ]
    }
   ],
   "source": [
    "a=int(input(\"a= \"))\n",
    "b=int(input(\"b= \"))\n",
    "print(\"Element a before swapping is\",a)\n",
    "print(\"Element b before swapping is\",b)\n",
    "a=a+b\n",
    "b=a-b\n",
    "a=a-b\n",
    "print(\"Element a after swapping is\",a)\n",
    "print(\"Element b after swapping is\",b)"
   ]
  }
 ],
 "metadata": {
  "kernelspec": {
   "display_name": "Python 3",
   "language": "python",
   "name": "python3"
  },
  "language_info": {
   "codemirror_mode": {
    "name": "ipython",
    "version": 3
   },
   "file_extension": ".py",
   "mimetype": "text/x-python",
   "name": "python",
   "nbconvert_exporter": "python",
   "pygments_lexer": "ipython3",
   "version": "3.11.0"
  }
 },
 "nbformat": 4,
 "nbformat_minor": 5
}
