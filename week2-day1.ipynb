{
 "cells": [
  {
   "cell_type": "code",
   "execution_count": null,
   "id": "b3f7ff3c",
   "metadata": {},
   "outputs": [
    {
     "name": "stdout",
     "output_type": "stream",
     "text": [
      "2 3 5 7 11 13 17 19 "
     ]
    }
   ],
   "source": [
    "\"\"\"\n",
    "1. Prime Number Finder\n",
    " \n",
    "   * Function that returns all prime numbers up to `n`.\n",
    "   * Input: `n = 20`\n",
    "   * Output: `[2, 3, 5, 7, 11, 13, 17, 19]`\n",
    "\"\"\"\n",
    "def is_prime(num):\n",
    "    if num < 2:\n",
    "        return False\n",
    "    for i in range(2, int(num**0.5) + 1):\n",
    "        if num % i == 0:\n",
    "            return False\n",
    "    return True\n",
    "\n",
    "def prime(n):\n",
    "    for i in range(2, n+1):\n",
    "        if is_prime(i):\n",
    "            print(i, end=\" \")\n",
    "\n",
    "\n",
    "n = int(input(\"Enter a number: \"))\n",
    "prime(n)\n"
   ]
  },
  {
   "cell_type": "code",
   "execution_count": 4,
   "id": "0bcfd465",
   "metadata": {},
   "outputs": [
    {
     "data": {
      "text/plain": [
       "False"
      ]
     },
     "execution_count": 4,
     "metadata": {},
     "output_type": "execute_result"
    }
   ],
   "source": [
    "\"\"\"2. Palindrome Checker\n",
    " \n",
    "   * Check if a string is palindrome (ignoring spaces & case).\n",
    "   * Input: `\"Never odd or even\"`\n",
    "   * Output: `True`\n",
    "   \"\"\"\n",
    "def is_palindrome(l):\n",
    "    s=l.replace(\" \",\"\").lower()\n",
    "    if s==s[::-1]:\n",
    "        return True\n",
    "    else:\n",
    "        return False\n",
    "n=input(\"Enter the string:\")\n",
    "is_palindrome(n)"
   ]
  },
  {
   "cell_type": "code",
   "execution_count": 6,
   "id": "6431073a",
   "metadata": {},
   "outputs": [
    {
     "data": {
      "text/plain": [
       "True"
      ]
     },
     "execution_count": 6,
     "metadata": {},
     "output_type": "execute_result"
    }
   ],
   "source": [
    "\"\"\"3. Anagram Checker\n",
    " \n",
    "   * Function checks if two words are anagrams.\n",
    "   * Input: `\"listen\", \"silent\"`\n",
    "   * Output: `True`\n",
    "   \"\"\"\n",
    "def is_anagram(s1,s2):\n",
    "    x=s1.replace(\" \",\"\").lower()\n",
    "    y=s2.replace(\" \",\"\").lower()\n",
    "    if sorted(x)==sorted(y):\n",
    "        return True\n",
    "    else:\n",
    "        return False\n",
    "s1=input()\n",
    "s2=input()\n",
    "is_anagram(s1,s2)"
   ]
  },
  {
   "cell_type": "code",
   "execution_count": 12,
   "id": "0dac9731",
   "metadata": {},
   "outputs": [
    {
     "name": "stdout",
     "output_type": "stream",
     "text": [
      "Vowels=2, Consonants=3\n"
     ]
    }
   ],
   "source": [
    "\"\"\"4. Count Vowels & Consonants\n",
    " \n",
    "   * Return count of vowels & consonants.\n",
    "   * Input: `\"hello\"`\n",
    "   * Output: `Vowels=2, Consonants=3`\n",
    "\"\"\"\n",
    "def vowels_cons(s):\n",
    "    vowels=0\n",
    "    cons=0\n",
    "    for i in s:\n",
    "        if i.isalpha():\n",
    "            if (i in 'aeiouAEIOU'):\n",
    "                vowels=vowels+1\n",
    "                \n",
    "            else:\n",
    "                cons=cons+1\n",
    "    print(f\"Vowels={vowels}, Consonants={cons}\")    \n",
    "s=input()\n",
    "vowels_cons(s)\n",
    "\n"
   ]
  },
  {
   "cell_type": "code",
   "execution_count": 13,
   "id": "6f23f6aa",
   "metadata": {},
   "outputs": [
    {
     "name": "stdout",
     "output_type": "stream",
     "text": [
      "amazing\n"
     ]
    }
   ],
   "source": [
    "\"\"\"5. Longest Word Finder\n",
    " \n",
    "* Return longest word in a sentence.\n",
    "* Input: `\"Python is amazing\"`\n",
    "* Output: `\"amazing\"`\n",
    "\"\"\"\n",
    "def longest_word(s):\n",
    "    words = s.split()       \n",
    "    longest = max(words, key=len)     \n",
    "    return longest\n",
    "\n",
    "s = input(\"Enter a sentence: \")\n",
    "print(longest_word(s))\n"
   ]
  },
  {
   "cell_type": "code",
   "execution_count": 19,
   "id": "fa225aca",
   "metadata": {},
   "outputs": [
    {
     "name": "stdout",
     "output_type": "stream",
     "text": [
      "RropAU`\n"
     ]
    }
   ],
   "source": [
    "\"\"\"\n",
    "1. Random Password Generator (`random`, `string`)\n",
    " \n",
    "* Input: `length=6`\n",
    "* Output: `\"aB9@xQ\"`\n",
    "\"\"\"\n",
    "import random\n",
    "import string\n",
    "def password_generate(k):\n",
    "    s=''.join(random.choices(string.ascii_letters+string.digits+string.punctuation,k=k))\n",
    "    return s\n",
    "k=int(input())\n",
    "print(password_generate(k))"
   ]
  },
  {
   "cell_type": "code",
   "execution_count": 21,
   "id": "480b003a",
   "metadata": {},
   "outputs": [
    {
     "name": "stdout",
     "output_type": "stream",
     "text": [
      "1.4142135623730951\n",
      "120\n",
      "0.8660254037844386\n",
      "-1.0\n"
     ]
    }
   ],
   "source": [
    "\"\"\"2. Simple Calculator with `math`\n",
    " \n",
    "* Perform sqrt, factorial, sin, cos.\n",
    "* Input: `sqrt(25)`\n",
    "* Output: `5.0`\n",
    "\"\"\"\n",
    "import math\n",
    "def sqrt_of(n):\n",
    "    return math.sqrt(n)\n",
    "    \n",
    "def factorial_of(n):\n",
    "    return math.factorial(n)  \n",
    "def sin_of(x):\n",
    "    return math.sin(math.radians(x)) \n",
    "\n",
    "def cos_of(x):\n",
    "    return math.cos(math.radians(x)) \n",
    "print(sqrt_of(float(input())))\n",
    "print(factorial_of(int(input())))\n",
    "print(sin_of(float(input())))\n",
    "print(cos_of(float(input())))"
   ]
  },
  {
   "cell_type": "code",
   "execution_count": null,
   "id": "c6ed938a",
   "metadata": {},
   "outputs": [],
   "source": [
    "\"\"\"3. Word Frequency Counter (`collections.Counter`)\n",
    " \n",
    "* Input: `\"cat dog cat\"`\n",
    "* Output: `{'cat':2,'dog':1}`\n",
    "\"\"\"\n",
    "from collections import Counter\n",
    "def word_frequency()"
   ]
  }
 ],
 "metadata": {
  "kernelspec": {
   "display_name": "Python 3",
   "language": "python",
   "name": "python3"
  },
  "language_info": {
   "codemirror_mode": {
    "name": "ipython",
    "version": 3
   },
   "file_extension": ".py",
   "mimetype": "text/x-python",
   "name": "python",
   "nbconvert_exporter": "python",
   "pygments_lexer": "ipython3",
   "version": "3.11.0"
  }
 },
 "nbformat": 4,
 "nbformat_minor": 5
}
